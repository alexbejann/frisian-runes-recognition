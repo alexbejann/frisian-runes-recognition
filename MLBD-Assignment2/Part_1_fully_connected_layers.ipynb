{
 "cells": [
  {
   "cell_type": "markdown",
   "metadata": {},
   "source": [
    "# Part 1: Fully Connected Layers\n",
    "\n",
    "Daniel-Alexandru Bejan (474404)\n",
    "Patrick Schaper (534366)"
   ]
  },
  {
   "cell_type": "markdown",
   "metadata": {},
   "source": [
    "The provided dataset contains possible combinations for the game Yathzee. If you don’t know the rules for this dice game, please have a look at: https://en.wikipedia.org/wiki/Yahtzee.\n",
    "\n",
    "Please note: the dataset is imbalanced. This means that you might need to balance it first\n",
    "before you will get good results! There a several possible solutions, please read: https://towardsdatascience.com/handling-imbalanced-datasets-in-deep-learning-f48407a0e758 for a better understanding.\n",
    "\n",
    "You will need to build a neural network that is able to predict the label for 5 thrown dice. The available labels are mentioned in the table below.\n",
    "\n",
    "- 3-of-a-kind: Three dice the same.\n",
    "- 4-of-a-kind: Four dice the same.\n",
    "- Full-house: Three of one number and two of another\n",
    "- small-straight Four sequential dice: (1-2-3-4, 2-3-4-5, or 3-4-5-6)\n",
    "- Large-straight Five sequential dice: (1-2-3-4-5 or 2-3-4-5-6)\n",
    "- Yathzee: All five dice the same\n",
    "- Nothing: None of the above combinations has been thrown\n",
    "\n",
    "**Goal of the assignment**\n",
    "\n",
    "The overall goal is to experiment with deep learning and find out what gives you the\n",
    "best results. Don’t forget to compare the results and write a conclusion!\n",
    "Experiments we expect you to carry out:\n",
    "- Playing around with different networks sizes\n",
    " - Different number of layers\n",
    " - Different number of neurons per layer\n",
    " - At least 6 different networks with a minimum of 1 hidden layer per network\n",
    "- Comparison of different activation functions:\n",
    " - Sigmoid\n",
    " - Tanh\n",
    " - ReLu\n",
    "- Difference with and without dropout.\n",
    "\n",
    "The notebook should contain:\n",
    "- For each neural network that you train: graphs from TensorBoard or Matplotlib showing the accuracy and the loss for train set and validation set and the accuracy scores for the test set.\n",
    "- Your observations and conclusions per network (and graph)!\n",
    "- An export of your best trained network and a way to run this exported model.\n",
    "\n",
    "**Hints**\n",
    "\n",
    "In order to build proper neural networks, keep in mind:\n",
    "- Convert the labels into one-hot-encoded values.\n",
    "- Use cross-entropy as loss function for classification.\n",
    "- Create a proper output layer that uses SoftMax activation.\n",
    "- Use the accuracy metric to measure your classification performance.\n",
    "- Avoid overfitting by using dropout, a test set (which you use in the end) and cross validation.\n",
    "\n",
    "Export your best model and add a cell to your notebook that loads the model and is\n",
    "able to validate your model, by loading in a dataset from file and feeding it into the\n",
    "network. This cell should show the accuracy of the classifier.\n"
   ]
  },
  {
   "cell_type": "markdown",
   "metadata": {},
   "source": [
    "## Analyse the Data"
   ]
  },
  {
   "cell_type": "code",
   "execution_count": 2,
   "metadata": {},
   "outputs": [
    {
     "data": {
      "text/html": [
       "<div>\n",
       "<style scoped>\n",
       "    .dataframe tbody tr th:only-of-type {\n",
       "        vertical-align: middle;\n",
       "    }\n",
       "\n",
       "    .dataframe tbody tr th {\n",
       "        vertical-align: top;\n",
       "    }\n",
       "\n",
       "    .dataframe thead th {\n",
       "        text-align: right;\n",
       "    }\n",
       "</style>\n",
       "<table border=\"1\" class=\"dataframe\">\n",
       "  <thead>\n",
       "    <tr style=\"text-align: right;\">\n",
       "      <th></th>\n",
       "      <th>dice1</th>\n",
       "      <th>dice2</th>\n",
       "      <th>dice3</th>\n",
       "      <th>dice4</th>\n",
       "      <th>dice5</th>\n",
       "      <th>label</th>\n",
       "    </tr>\n",
       "  </thead>\n",
       "  <tbody>\n",
       "    <tr>\n",
       "      <th>0</th>\n",
       "      <td>3</td>\n",
       "      <td>6</td>\n",
       "      <td>6</td>\n",
       "      <td>2</td>\n",
       "      <td>5</td>\n",
       "      <td>nothing</td>\n",
       "    </tr>\n",
       "    <tr>\n",
       "      <th>1</th>\n",
       "      <td>3</td>\n",
       "      <td>6</td>\n",
       "      <td>1</td>\n",
       "      <td>3</td>\n",
       "      <td>4</td>\n",
       "      <td>nothing</td>\n",
       "    </tr>\n",
       "    <tr>\n",
       "      <th>2</th>\n",
       "      <td>2</td>\n",
       "      <td>2</td>\n",
       "      <td>5</td>\n",
       "      <td>5</td>\n",
       "      <td>3</td>\n",
       "      <td>nothing</td>\n",
       "    </tr>\n",
       "    <tr>\n",
       "      <th>3</th>\n",
       "      <td>1</td>\n",
       "      <td>3</td>\n",
       "      <td>6</td>\n",
       "      <td>6</td>\n",
       "      <td>1</td>\n",
       "      <td>nothing</td>\n",
       "    </tr>\n",
       "    <tr>\n",
       "      <th>4</th>\n",
       "      <td>1</td>\n",
       "      <td>4</td>\n",
       "      <td>6</td>\n",
       "      <td>3</td>\n",
       "      <td>5</td>\n",
       "      <td>small-straight</td>\n",
       "    </tr>\n",
       "  </tbody>\n",
       "</table>\n",
       "</div>"
      ],
      "text/plain": [
       "   dice1  dice2  dice3  dice4  dice5           label\n",
       "0      3      6      6      2      5         nothing\n",
       "1      3      6      1      3      4         nothing\n",
       "2      2      2      5      5      3         nothing\n",
       "3      1      3      6      6      1         nothing\n",
       "4      1      4      6      3      5  small-straight"
      ]
     },
     "execution_count": 2,
     "metadata": {},
     "output_type": "execute_result"
    }
   ],
   "source": [
    "import pandas as pd\n",
    "\n",
    "df = pd.read_csv('MLBD-dataset-yahtzee.csv')\n",
    "df.head() "
   ]
  },
  {
   "cell_type": "code",
   "execution_count": 4,
   "metadata": {},
   "outputs": [
    {
     "data": {
      "text/plain": [
       "(5832, 6)"
      ]
     },
     "execution_count": 4,
     "metadata": {},
     "output_type": "execute_result"
    }
   ],
   "source": [
    "df.shape"
   ]
  },
  {
   "cell_type": "code",
   "execution_count": 7,
   "metadata": {},
   "outputs": [
    {
     "data": {
      "text/plain": [
       "dice1    5832\n",
       "dice2    5832\n",
       "dice3    5832\n",
       "dice4    5832\n",
       "dice5    5832\n",
       "label    5832\n",
       "dtype: int64"
      ]
     },
     "execution_count": 7,
     "metadata": {},
     "output_type": "execute_result"
    }
   ],
   "source": [
    "df.notnull().sum()"
   ]
  },
  {
   "cell_type": "code",
   "execution_count": 10,
   "metadata": {},
   "outputs": [
    {
     "data": {
      "text/plain": [
       "label\n",
       "four-of-a-kind      116\n",
       "full-house          221\n",
       "large-straight      178\n",
       "nothing            3868\n",
       "small-straight      549\n",
       "three-of-a-kind     896\n",
       "yathzee               4\n",
       "Name: label, dtype: int64"
      ]
     },
     "execution_count": 10,
     "metadata": {},
     "output_type": "execute_result"
    }
   ],
   "source": [
    "df.groupby(['label'])['label'].count()"
   ]
  },
  {
   "cell_type": "code",
   "execution_count": null,
   "metadata": {},
   "outputs": [],
   "source": []
  }
 ],
 "metadata": {
  "kernelspec": {
   "display_name": "Python 3 (ipykernel)",
   "language": "python",
   "name": "python3"
  },
  "language_info": {
   "codemirror_mode": {
    "name": "ipython",
    "version": 3
   },
   "file_extension": ".py",
   "mimetype": "text/x-python",
   "name": "python",
   "nbconvert_exporter": "python",
   "pygments_lexer": "ipython3",
   "version": "3.9.15"
  },
  "vscode": {
   "interpreter": {
    "hash": "fca98ced75e3b70b02ac3b0fddc14254b9e3b048d240659196fc27e019c1f4a1"
   }
  }
 },
 "nbformat": 4,
 "nbformat_minor": 2
}
