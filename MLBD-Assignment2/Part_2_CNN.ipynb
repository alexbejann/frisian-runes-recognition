{
 "cells": [
  {
   "attachments": {},
   "cell_type": "markdown",
   "metadata": {},
   "source": [
    "# Part 2: Convolutional Neural Networks\n",
    "\n",
    "Daniel-Alexandru Bejan (474404)\n",
    "Patrick Schaper (534366)"
   ]
  },
  {
   "attachments": {},
   "cell_type": "markdown",
   "metadata": {},
   "source": [
    "For this assignment you are going to use the dataset IML-2022-Anglo-Saxion-Runes\n",
    "from Introduction to Machine Learning (see BlackBoard).\n",
    "\n",
    "There are plenty of examples of how to build convolutional neural networks. We advice\n",
    "you, however, to reuse the code from your first assignment. \n",
    "\n",
    "This time you also need to\n",
    "use convolutional layers and pooling layers."
   ]
  },
  {
   "cell_type": "code",
   "execution_count": 1,
   "metadata": {},
   "outputs": [],
   "source": [
    "import os, re, math, json, shutil, pprint\n",
    "import PIL.Image, PIL.ImageFont, PIL.ImageDraw\n",
    "import IPython.display as display\n",
    "import numpy as np\n",
    "import tensorflow as tf\n",
    "from tensorflow import keras\n",
    "from matplotlib import pyplot as plt"
   ]
  },
  {
   "cell_type": "code",
   "execution_count": null,
   "metadata": {},
   "outputs": [],
   "source": []
  },
  {
   "cell_type": "code",
   "execution_count": null,
   "metadata": {},
   "outputs": [
    {
     "ename": "",
     "evalue": "",
     "output_type": "error",
     "traceback": [
      "\u001b[1;31mRunning cells with 'project-bdt' requires ipykernel package.\n",
      "\u001b[1;31mRun the following command to install 'ipykernel' into the Python environment. \n",
      "\u001b[1;31mCommand: 'conda install -n project-bdt ipykernel --update-deps --force-reinstall'"
     ]
    }
   ],
   "source": [
    "model = tf.keras.models.Sequential()\n",
    "# Add a fully connected layer with 32 neurons and ReLu activation\n",
    "model.add(tf.keras.layers.Dense(32, activation='relu'))"
   ]
  },
  {
   "cell_type": "code",
   "execution_count": null,
   "metadata": {},
   "outputs": [],
   "source": []
  }
 ],
 "metadata": {
  "kernelspec": {
   "display_name": "project-bdt",
   "language": "python",
   "name": "python3"
  },
  "language_info": {
   "codemirror_mode": {
    "name": "ipython",
    "version": 3
   },
   "file_extension": ".py",
   "mimetype": "text/x-python",
   "name": "python",
   "nbconvert_exporter": "python",
   "pygments_lexer": "ipython3",
   "version": "3.9.13 (main, Aug 25 2022, 23:51:50) [MSC v.1916 64 bit (AMD64)]"
  },
  "orig_nbformat": 4,
  "vscode": {
   "interpreter": {
    "hash": "cda239b1dd777d01df567143bbbda5f1e26f67cd0d962f9425eb41a04df5b565"
   }
  }
 },
 "nbformat": 4,
 "nbformat_minor": 2
}
