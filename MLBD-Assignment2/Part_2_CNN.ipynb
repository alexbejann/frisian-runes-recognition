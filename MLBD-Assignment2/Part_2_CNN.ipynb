{
 "cells": [
  {
   "attachments": {},
   "cell_type": "markdown",
   "metadata": {},
   "source": [
    "# Part 2: Convolutional Neural Networks\n",
    "\n",
    "Daniel-Alexandru Bejan (474404)\n",
    "Patrick Schaper (534366)"
   ]
  },
  {
   "attachments": {},
   "cell_type": "markdown",
   "metadata": {},
   "source": [
    "For this assignment you are going to use the dataset IML-2022-Anglo-Saxion-Runes\n",
    "from Introduction to Machine Learning (see BlackBoard).\n",
    "\n",
    "There are plenty of examples of how to build convolutional neural networks. We advice\n",
    "you, however, to reuse the code from your first assignment. \n",
    "\n",
    "This time you also need to\n",
    "use convolutional layers and pooling layers."
   ]
  },
  {
   "cell_type": "code",
   "execution_count": 1,
   "metadata": {},
   "outputs": [
    {
     "name": "stdout",
     "output_type": "stream",
     "text": [
      "2.8.2\n"
     ]
    }
   ],
   "source": [
    "import os, re, math, json, shutil, pprint\n",
    "# import PIL.Image, PIL.ImageFont, PIL.ImageDraw\n",
    "import IPython.display as display\n",
    "import numpy as np\n",
    "import tensorflow as tf\n",
    "from tensorflow import keras\n",
    "import matplotlib\n",
    "import matplotlib.pyplot as plt\n",
    "from skimage import io\n",
    "import pandas as pd\n",
    "from os import listdir\n",
    "from os.path import isfile, join\n",
    "from tensorflow.keras.models import Sequential\n",
    "from tensorflow.keras.optimizers import SGD, Adam, Adagrad\n",
    "from tensorflow.keras.layers import Dense, Activation, Dropout, BatchNormalization\n",
    "from keras.callbacks import History\n",
    "from sklearn.utils import class_weight\n",
    "from sklearn.preprocessing import LabelEncoder\n",
    "print(tf.__version__)"
   ]
  },
  {
   "attachments": {},
   "cell_type": "markdown",
   "metadata": {},
   "source": [
    "Define a dispay function for the np_image"
   ]
  },
  {
   "cell_type": "code",
   "execution_count": 2,
   "metadata": {},
   "outputs": [],
   "source": [
    "def display(np_image):\n",
    "    \"\"\"\n",
    "    This is a display function that we have added to show numpy images at full size\n",
    "    If you pass in an image with 3 channels, it will be displayed in RGB\n",
    "    If you passn in an image with 1 channel, it will be displayed in grayscale\n",
    "    \"\"\"\n",
    "    dpi = matplotlib.rcParams['figure.dpi']\n",
    "    if len(np_image.shape) == 3:\n",
    "        height, width, depth = np_image.shape\n",
    "    else:\n",
    "        height, width = np_image.shape\n",
    "\n",
    "    # What size does the figure need to be in inches to fit the image?\n",
    "    figsize = width / float(dpi), height / float(dpi)\n",
    "\n",
    "    # Create a figure of the right size with one axis that takes up the full figure\n",
    "    fig = plt.figure(figsize=figsize)\n",
    "    ax = fig.add_axes([0, 0, 1, 1])\n",
    "\n",
    "    # Hide spines, ticks, etc.\n",
    "    ax.axis('off')\n",
    "\n",
    "    # Display the image in either RGB or grayscale (depending on the amount of dimensions)\n",
    "    if (len(np_image.shape) >= 3):\n",
    "        ax.imshow(np_image)\n",
    "    else:\n",
    "        ax.imshow(np_image, cmap='gray')\n",
    "\n",
    "    plt.show()"
   ]
  },
  {
   "attachments": {},
   "cell_type": "markdown",
   "metadata": {},
   "source": [
    "Loading the data into dataframes"
   ]
  },
  {
   "cell_type": "code",
   "execution_count": 3,
   "metadata": {},
   "outputs": [
    {
     "name": "stdout",
     "output_type": "stream",
     "text": [
      "Number of images: 3030\n"
     ]
    },
    {
     "data": {
      "image/png": "[encoded data removed]",
      "text/plain": [
       "<Figure size 128x128 with 1 Axes>"
      ]
     },
     "metadata": {},
     "output_type": "display_data"
    },
    {
     "name": "stdout",
     "output_type": "stream",
     "text": [
      "(128, 128, 4)\n"
     ]
    }
   ],
   "source": [
    "#change the color to gray picture\n",
    "from skimage.color import rgb2gray\n",
    "path = './MLBD-dataset-IML-2022-Anglo-Saxion-Runes'\n",
    "images_original = io.imread_collection(os.path.join(f'{path}/*.png'))\n",
    "print(f'Number of images: {len(images_original)}')\n",
    "display(images_original[0])\n",
    "print(images_original[0].shape)"
   ]
  },
  {
   "attachments": {},
   "cell_type": "markdown",
   "metadata": {},
   "source": [
    "Creating a new dataframe with the labels and the image names separated."
   ]
  },
  {
   "cell_type": "code",
   "execution_count": 4,
   "metadata": {},
   "outputs": [],
   "source": [
    "dataset_rgba = []\n",
    "images_as_rgba = []\n",
    "for file_name in listdir(path):\n",
    "    full_path = join(path, file_name)\n",
    "    if isfile(full_path):\n",
    "        if re.match(r\".*\\.png$\", full_path):\n",
    "            image_current = io.imread(full_path)\n",
    "            image_label = file_name.split('_')[0].lower()\n",
    "            #image_number = file_name.split('_')[2].lower() + \"_\" + file_name.split('_')[3].lower()\n",
    "            \n",
    "            #image_definition = (image_current, image_number, image_label)\n",
    "            image_definition = (image_current, image_label)\n",
    "            \n",
    "            dataset_rgba.append(image_definition)\n",
    "\n",
    "#labeled_images_df = pd.DataFrame(dataset_rgba, columns=[\"image\", \"rune_id\", \"label\"])\n",
    "labeled_images_df = pd.DataFrame(dataset_rgba, columns=[\"image\", \"label\"])"
   ]
  },
  {
   "cell_type": "code",
   "execution_count": 5,
   "metadata": {},
   "outputs": [
    {
     "data": {
      "text/html": [
       "<div>\n",
       "<style scoped>\n",
       "    .dataframe tbody tr th:only-of-type {\n",
       "        vertical-align: middle;\n",
       "    }\n",
       "\n",
       "    .dataframe tbody tr th {\n",
       "        vertical-align: top;\n",
       "    }\n",
       "\n",
       "    .dataframe thead th {\n",
       "        text-align: right;\n",
       "    }\n",
       "</style>\n",
       "<table border=\"1\" class=\"dataframe\">\n",
       "  <thead>\n",
       "    <tr style=\"text-align: right;\">\n",
       "      <th></th>\n",
       "      <th>image</th>\n",
       "      <th>label</th>\n",
       "    </tr>\n",
       "  </thead>\n",
       "  <tbody>\n",
       "    <tr>\n",
       "      <th>0</th>\n",
       "      <td>[[[255, 255, 255, 255], [255, 255, 255, 255], ...</td>\n",
       "      <td>ash</td>\n",
       "    </tr>\n",
       "    <tr>\n",
       "      <th>1</th>\n",
       "      <td>[[[255, 255, 255, 255], [255, 255, 255, 255], ...</td>\n",
       "      <td>ash</td>\n",
       "    </tr>\n",
       "    <tr>\n",
       "      <th>2</th>\n",
       "      <td>[[[255, 255, 255, 255], [255, 255, 255, 255], ...</td>\n",
       "      <td>ash</td>\n",
       "    </tr>\n",
       "    <tr>\n",
       "      <th>3</th>\n",
       "      <td>[[[255, 255, 255, 255], [255, 255, 255, 255], ...</td>\n",
       "      <td>ash</td>\n",
       "    </tr>\n",
       "    <tr>\n",
       "      <th>4</th>\n",
       "      <td>[[[255, 255, 255, 255], [255, 255, 255, 255], ...</td>\n",
       "      <td>ash</td>\n",
       "    </tr>\n",
       "    <tr>\n",
       "      <th>5</th>\n",
       "      <td>[[[255, 255, 255, 255], [255, 255, 255, 255], ...</td>\n",
       "      <td>ash</td>\n",
       "    </tr>\n",
       "    <tr>\n",
       "      <th>6</th>\n",
       "      <td>[[[255, 255, 255, 255], [255, 255, 255, 255], ...</td>\n",
       "      <td>ash</td>\n",
       "    </tr>\n",
       "    <tr>\n",
       "      <th>7</th>\n",
       "      <td>[[[255, 255, 255, 255], [255, 255, 255, 255], ...</td>\n",
       "      <td>ash</td>\n",
       "    </tr>\n",
       "    <tr>\n",
       "      <th>8</th>\n",
       "      <td>[[[255, 255, 255, 255], [255, 255, 255, 255], ...</td>\n",
       "      <td>ash</td>\n",
       "    </tr>\n",
       "    <tr>\n",
       "      <th>9</th>\n",
       "      <td>[[[255, 255, 255, 255], [255, 255, 255, 255], ...</td>\n",
       "      <td>ash</td>\n",
       "    </tr>\n",
       "  </tbody>\n",
       "</table>\n",
       "</div>"
      ],
      "text/plain": [
       "                                               image label\n",
       "0  [[[255, 255, 255, 255], [255, 255, 255, 255], ...   ash\n",
       "1  [[[255, 255, 255, 255], [255, 255, 255, 255], ...   ash\n",
       "2  [[[255, 255, 255, 255], [255, 255, 255, 255], ...   ash\n",
       "3  [[[255, 255, 255, 255], [255, 255, 255, 255], ...   ash\n",
       "4  [[[255, 255, 255, 255], [255, 255, 255, 255], ...   ash\n",
       "5  [[[255, 255, 255, 255], [255, 255, 255, 255], ...   ash\n",
       "6  [[[255, 255, 255, 255], [255, 255, 255, 255], ...   ash\n",
       "7  [[[255, 255, 255, 255], [255, 255, 255, 255], ...   ash\n",
       "8  [[[255, 255, 255, 255], [255, 255, 255, 255], ...   ash\n",
       "9  [[[255, 255, 255, 255], [255, 255, 255, 255], ...   ash"
      ]
     },
     "execution_count": 5,
     "metadata": {},
     "output_type": "execute_result"
    }
   ],
   "source": [
    "labeled_images_df.head(10)"
   ]
  },
  {
   "attachments": {},
   "cell_type": "markdown",
   "metadata": {},
   "source": [
    "As we can see now, the images are stored as numpy arrays grayscale with 128x128 pixels and contains the rune id and the label as well."
   ]
  },
  {
   "cell_type": "code",
   "execution_count": 6,
   "metadata": {},
   "outputs": [
    {
     "name": "stdout",
     "output_type": "stream",
     "text": [
      "Number of images in dataset 3030\n",
      "Shape (128, 128, 4)\n",
      "Numpy Array [[[255 255 255 255]\n",
      "  [255 255 255 255]\n",
      "  [255 255 255 255]\n",
      "  ...\n",
      "  [255 255 255 255]\n",
      "  [255 255 255 255]\n",
      "  [255 255 255 255]]\n",
      "\n",
      " [[255 255 255 255]\n",
      "  [255 255 255 255]\n",
      "  [255 255 255 255]\n",
      "  ...\n",
      "  [255 255 255 255]\n",
      "  [255 255 255 255]\n",
      "  [255 255 255 255]]\n",
      "\n",
      " [[255 255 255 255]\n",
      "  [255 255 255 255]\n",
      "  [255 255 255 255]\n",
      "  ...\n",
      "  [255 255 255 255]\n",
      "  [255 255 255 255]\n",
      "  [255 255 255 255]]\n",
      "\n",
      " ...\n",
      "\n",
      " [[255 255 255 255]\n",
      "  [255 255 255 255]\n",
      "  [255 255 255 255]\n",
      "  ...\n",
      "  [255 255 255 255]\n",
      "  [255 255 255 255]\n",
      "  [255 255 255 255]]\n",
      "\n",
      " [[255 255 255 255]\n",
      "  [255 255 255 255]\n",
      "  [255 255 255 255]\n",
      "  ...\n",
      "  [255 255 255 255]\n",
      "  [255 255 255 255]\n",
      "  [255 255 255 255]]\n",
      "\n",
      " [[255 255 255 255]\n",
      "  [255 255 255 255]\n",
      "  [255 255 255 255]\n",
      "  ...\n",
      "  [255 255 255 255]\n",
      "  [255 255 255 255]\n",
      "  [255 255 255 255]]]\n",
      "Rune id ash\n"
     ]
    },
    {
     "data": {
      "image/png": "[encoded data removed]",
      "text/plain": [
       "<Figure size 128x128 with 1 Axes>"
      ]
     },
     "metadata": {},
     "output_type": "display_data"
    }
   ],
   "source": [
    "print('Number of images in dataset', len(dataset_rgba))\n",
    "print('Shape', dataset_rgba[200][0].shape)\n",
    "print('Numpy Array', dataset_rgba[200][0])\n",
    "print('Rune id', dataset_rgba[200][1])\n",
    "#print('Label', dataset_rgba[200][2])\n",
    "display(dataset_rgba[200][0])"
   ]
  },
  {
   "cell_type": "code",
   "execution_count": 7,
   "metadata": {},
   "outputs": [
    {
     "name": "stdout",
     "output_type": "stream",
     "text": [
      "(3030,)\n"
     ]
    }
   ],
   "source": [
    "print(labeled_images_df['image'].shape)"
   ]
  },
  {
   "attachments": {},
   "cell_type": "markdown",
   "metadata": {},
   "source": [
    "As it is stated into the the assignment we are going to experiment with different network structures. \n",
    "\n",
    "Therefore, we would have to:\n",
    "\n",
    "- Experiment with at least 6 different network structures with minimum of 2 convolutional layers per network.\n",
    "- Difference with and without dropout.\n"
   ]
  },
  {
   "cell_type": "code",
   "execution_count": 8,
   "metadata": {},
   "outputs": [],
   "source": [
    "BATCH_SIZE = 128\n",
    "EPOCHS = 10\n",
    "IMG_SIZE = (128, 128, 4)"
   ]
  },
  {
   "cell_type": "code",
   "execution_count": 9,
   "metadata": {},
   "outputs": [],
   "source": [
    "df_for_this_cell = labeled_images_df #bal_df\n",
    "\n",
    "y_labels = df_for_this_cell.label.unique()\n",
    "labeled_images_df.label = pd.factorize(labeled_images_df.label)[0]\n",
    "\n",
    "features = []\n",
    "for feature in df_for_this_cell.columns:\n",
    "    if feature != 'label':\n",
    "        features.append(feature)\n",
    "        \n",
    "X = df_for_this_cell[features]\n",
    "y = df_for_this_cell['label']\n",
    "\n",
    "y_encoded = LabelEncoder().fit_transform(y)"
   ]
  },
  {
   "cell_type": "code",
   "execution_count": 10,
   "metadata": {},
   "outputs": [
    {
     "name": "stdout",
     "output_type": "stream",
     "text": [
      "Class=0, n=250 (8.251%)\n",
      "Class=1, n=250 (8.251%)\n",
      "Class=2, n=300 (9.901%)\n",
      "Class=3, n=315 (10.396%)\n",
      "Class=4, n=225 (7.426%)\n",
      "Class=5, n=300 (9.901%)\n",
      "Class=6, n=250 (8.251%)\n",
      "Class=7, n=280 (9.241%)\n",
      "Class=8, n=280 (9.241%)\n",
      "Class=9, n=300 (9.901%)\n",
      "Class=10, n=280 (9.241%)\n"
     ]
    },
    {
     "data": {
      "image/png": "[encoded data removed]",
      "text/plain": [
       "<Figure size 640x480 with 1 Axes>"
      ]
     },
     "metadata": {},
     "output_type": "display_data"
    }
   ],
   "source": [
    "from collections import Counter\n",
    "\n",
    "counter = Counter(y_encoded)\n",
    "for k,v in counter.items():\n",
    "    per = v / len(y) * 100\n",
    "    print('Class=%d, n=%d (%.3f%%)' % (k, v, per))\n",
    "    \n",
    "plt.bar(counter.keys(), counter.values())\n",
    "plt.show()"
   ]
  },
  {
   "cell_type": "code",
   "execution_count": 11,
   "metadata": {},
   "outputs": [],
   "source": [
    "from sklearn.model_selection import train_test_split\n",
    "\n",
    "X_train, X_test, y_train, y_test = train_test_split(X, y, test_size=0.2, random_state=123)"
   ]
  },
  {
   "cell_type": "code",
   "execution_count": 12,
   "metadata": {},
   "outputs": [
    {
     "name": "stdout",
     "output_type": "stream",
     "text": [
      "Class=7, n=237 (9.777%)\n",
      "Class=1, n=208 (8.581%)\n",
      "Class=2, n=224 (9.241%)\n",
      "Class=6, n=195 (8.045%)\n",
      "Class=10, n=229 (9.447%)\n",
      "Class=5, n=249 (10.272%)\n",
      "Class=3, n=245 (10.107%)\n",
      "Class=8, n=218 (8.993%)\n",
      "Class=9, n=239 (9.860%)\n",
      "Class=0, n=202 (8.333%)\n",
      "Class=4, n=178 (7.343%)\n"
     ]
    },
    {
     "data": {
      "image/png": "[encoded data removed]",
      "text/plain": [
       "<Figure size 640x480 with 1 Axes>"
      ]
     },
     "metadata": {},
     "output_type": "display_data"
    }
   ],
   "source": [
    "counter = Counter(y_train)\n",
    "for k,v in counter.items():\n",
    "    per = v / len(y_train) * 100\n",
    "    print('Class=%d, n=%d (%.3f%%)' % (k, v, per))\n",
    "    \n",
    "plt.bar(counter.keys(), counter.values())\n",
    "plt.show()"
   ]
  },
  {
   "cell_type": "code",
   "execution_count": 13,
   "metadata": {},
   "outputs": [
    {
     "name": "stdout",
     "output_type": "stream",
     "text": [
      "Class=7, n=43 (7.096%)\n",
      "Class=2, n=76 (12.541%)\n",
      "Class=0, n=48 (7.921%)\n",
      "Class=10, n=51 (8.416%)\n",
      "Class=8, n=62 (10.231%)\n",
      "Class=1, n=42 (6.931%)\n",
      "Class=4, n=47 (7.756%)\n",
      "Class=3, n=70 (11.551%)\n",
      "Class=5, n=51 (8.416%)\n",
      "Class=6, n=55 (9.076%)\n",
      "Class=9, n=61 (10.066%)\n"
     ]
    },
    {
     "data": {
      "image/png": "[encoded data removed]",
      "text/plain": [
       "<Figure size 640x480 with 1 Axes>"
      ]
     },
     "metadata": {},
     "output_type": "display_data"
    }
   ],
   "source": [
    "counter = Counter(y_test)\n",
    "for k,v in counter.items():\n",
    "    per = v / len(y_test) * 100\n",
    "    print('Class=%d, n=%d (%.3f%%)' % (k, v, per))\n",
    "    \n",
    "plt.bar(counter.keys(), counter.values())\n",
    "plt.show()"
   ]
  },
  {
   "attachments": {},
   "cell_type": "markdown",
   "metadata": {},
   "source": [
    "Checking what shape the images has. We would expected a 4 channel image, 128x128 pixels."
   ]
  },
  {
   "cell_type": "code",
   "execution_count": 14,
   "metadata": {},
   "outputs": [
    {
     "name": "stdout",
     "output_type": "stream",
     "text": [
      "(128, 128, 4)\n"
     ]
    }
   ],
   "source": [
    "print(labeled_images_df.iloc[2]['image'].shape)"
   ]
  },
  {
   "cell_type": "code",
   "execution_count": 15,
   "metadata": {},
   "outputs": [
    {
     "name": "stdout",
     "output_type": "stream",
     "text": [
      "Found 3030 files belonging to 11 classes.\n",
      "Using 2424 files for training.\n"
     ]
    }
   ],
   "source": [
    "# According to the link below, the keras util requires to have the images in a folder structure \n",
    "# so i created the structure with the 11 classes and the images in the corresponding folder\n",
    "# source: https://stackoverflow.com/a/71704958\n",
    "\n",
    "dataset = tf.keras.preprocessing.image_dataset_from_directory(\n",
    "    './dataset',\n",
    "    validation_split=0.2,\n",
    "    subset='training',\n",
    "    seed=123,\n",
    "    image_size=(128, 128),\n",
    "    batch_size=128\n",
    ")"
   ]
  },
  {
   "attachments": {},
   "cell_type": "markdown",
   "metadata": {},
   "source": [
    "As the slides are saying, the convolutional layers are used to extract features from the images.\n",
    "We are going to define a function that will create this for us.\n",
    "\n",
    "Keras layers engine contains an implementation of the convolutional layer\n",
    "- Filters = number of filters you want to apply (= number of outputs)\n",
    "- Kernel size = size of the weights kernel\n",
    "- Padding = \"valid\" (don't pad) or \"same\" (output size equal to input size)\n",
    "- Strides = stride step size for vertical and horizontal"
   ]
  },
  {
   "cell_type": "code",
   "execution_count": 16,
   "metadata": {},
   "outputs": [],
   "source": [
    "def plot_acc_loss(history):\n",
    "    plt.figure(figsize=(20,8))\n",
    "    \n",
    "    plt.subplot(1,2,1)\n",
    "    plt.ylim(1)\n",
    "    plt.plot(history.history['accuracy'])\n",
    "    plt.plot(history.history['val_accuracy'])\n",
    "    plt.title('model accuracy')\n",
    "    plt.ylabel('accuracy')\n",
    "    plt.xlabel('epoch')\n",
    "    plt.legend(['train', 'test'], loc='upper left')\n",
    "    \n",
    "    plt.subplot(1,2,2)\n",
    "    plt.plot(history.history['loss'])\n",
    "    plt.plot(history.history['val_loss'])\n",
    "    plt.title('model loss')\n",
    "    plt.ylabel('loss')\n",
    "    plt.xlabel('epoch')\n",
    "    plt.legend(['train', 'test'], loc='upper left')\n",
    "    \n",
    "    plt.show()"
   ]
  },
  {
   "attachments": {},
   "cell_type": "markdown",
   "metadata": {},
   "source": [
    "• Playing around with different networks sizes (different number of layers, different\n",
    "number of neurons per layer, at least 6 different networks with a minimum of 2\n",
    "convolutional layers per network).\n",
    "• Difference with and without dropout.\n",
    "• Visualize metrics such as accuracy and cross entropy for both the training set\n",
    "and validation set (to prove that you are not overfitting the network). Show the\n",
    "accuracy of your testing set as well.\n",
    "• Use at least 2 convolutional layers in each network.\n",
    "• Create a proper output layer using SoftMax activation.\n",
    "• Convert the labels into one-hot-encoded values.\n",
    "• Use cross-entropy as loss function for classification.\n",
    "• Avoid overfitting by using dropout, a test set and cross validation"
   ]
  },
  {
   "attachments": {},
   "cell_type": "markdown",
   "metadata": {},
   "source": [
    "Experiments\n",
    "\n",
    "1. 2 conv layers with the basic setup of the network with 32 neurons.\n",
    "2. 2 conv layers with 64 neurons\n",
    "3. 2 conv layers with max pooling\n",
    "4. 2 conv layers adding data augmentation \n",
    "5. based on the previous experminet we will increment the neurons number\n",
    "6. we will do the dropout \n",
    "\n",
    "\n",
    "BatchNormalization"
   ]
  },
  {
   "attachments": {},
   "cell_type": "markdown",
   "metadata": {},
   "source": [
    "Data augmentation and Data segmentation"
   ]
  },
  {
   "cell_type": "code",
   "execution_count": 17,
   "metadata": {},
   "outputs": [],
   "source": [
    "# Source: https://www.tensorflow.org/tutorials/images/data_augmentation\n",
    "data_augmentation = tf.keras.Sequential([\n",
    "  tf.keras.layers.RandomFlip('horizontal'),\n",
    "  tf.keras.layers.RandomRotation(0.2),\n",
    "])"
   ]
  },
  {
   "attachments": {},
   "cell_type": "markdown",
   "metadata": {},
   "source": [
    "Experiments"
   ]
  },
  {
   "cell_type": "code",
   "execution_count": 18,
   "metadata": {},
   "outputs": [],
   "source": [
    "models_and_results = pd.DataFrame()"
   ]
  },
  {
   "cell_type": "code",
   "execution_count": 19,
   "metadata": {},
   "outputs": [],
   "source": [
    "def create_model(layers=[], kernel_size =(3, 3), learningRate = 0.03, optimizer=\"adam\", \n",
    "                    loss_function='categorical_crossentropy', \n",
    "                    activation_function=\"softmax\", debug=False):\n",
    "    model = tf.keras.models.Sequential()\n",
    "    # Define the input layer 4 channels of RGB\n",
    "    model.add(tf.keras.layers.Input(shape=IMG_SIZE)) \n",
    "    \n",
    "    # Adding convolutional layers\n",
    "    for layer in layers:\n",
    "        model.add(layer)\n",
    "\n",
    "    # Flatten the output from the convolutional layers\n",
    "    model.add(tf.keras.layers.Flatten())\n",
    "\n",
    "    # Define the fully connected layer\n",
    "    model.add(tf.keras.layers.Dense(512, activation='relu'))\n",
    "\n",
    "    # Output layer with 11 neurons as we have 11 runes to classify\n",
    "    # which is using the softmax activation function\n",
    "    model.add(tf.keras.layers.Dense(11, activation='softmax'))\n",
    "\n",
    "    if (debug):\n",
    "        model.summary()\n",
    "\n",
    "    # if optimizer == \"adam\":\n",
    "    #     opti = Adam(learning_rate=learningRate)\n",
    "    # elif optimizer == \"sgd\":\n",
    "    #     opti = SGD(learning_rate=learningRate)\n",
    "    # elif optimizer == \"adagrad\":\n",
    "    #     opti = Adagrad(learning_rate=learningRate)\n",
    "    \n",
    "    # history = History()\n",
    "    # Compile the model\n",
    "    model.compile(optimizer='adam', loss=loss_function, metrics=['accuracy'], sample_weight_mode=\"temporary\")\n",
    "    return model"
   ]
  },
  {
   "cell_type": "code",
   "execution_count": 20,
   "metadata": {},
   "outputs": [],
   "source": [
    "def create_fit_model(layers, X_train_2, y_train_2, X_test_2, y_test_2, EPOCHS=10):\n",
    "    # Create the model\n",
    "    model = create_model(layers=layers)\n",
    "    # https://machinelearningmastery.com/how-to-stop-training-deep-neural-networks-at-the-right-time-using-early-stopping/\n",
    "    eas = tf.keras.callbacks.EarlyStopping(monitor='val_loss', mode='min', verbose=1)\n",
    "    # Fit the model\n",
    "    history = model.fit(X_train_2, y_train_2, epochs=EPOCHS, validation_data=(X_test_2, y_test_2), callbacks=[eas])\n",
    "    # Evaluate the model\n",
    "    test_loss, test_acc = model.evaluate(X_test_2, y_test_2)\n",
    "    return model, history"
   ]
  },
  {
   "cell_type": "code",
   "execution_count": 21,
   "metadata": {},
   "outputs": [
    {
     "ename": "ValueError",
     "evalue": "Failed to convert a NumPy array to a Tensor (Unsupported object type numpy.ndarray).",
     "output_type": "error",
     "traceback": [
      "\u001b[1;31m---------------------------------------------------------------------------\u001b[0m",
      "\u001b[1;31mValueError\u001b[0m                                Traceback (most recent call last)",
      "Cell \u001b[1;32mIn[21], line 8\u001b[0m\n\u001b[0;32m      6\u001b[0m \u001b[39m# model, history = create_fit_model(n_32, X_train_2, y_train_2, X_test_2, y_test_2, EPOCHS=10)\u001b[39;00m\n\u001b[0;32m      7\u001b[0m model \u001b[39m=\u001b[39m create_model(layers\u001b[39m=\u001b[39mn_32)\n\u001b[1;32m----> 8\u001b[0m history \u001b[39m=\u001b[39m model\u001b[39m.\u001b[39;49mfit(X_train, y_train, epochs\u001b[39m=\u001b[39;49mEPOCHS, validation_data\u001b[39m=\u001b[39;49m(X_test, y_test))\n\u001b[0;32m      9\u001b[0m evaluation_results \u001b[39m=\u001b[39m model\u001b[39m.\u001b[39mevaluate(X_train, y_train, batch_size\u001b[39m=\u001b[39mBATCH_SIZE)\n\u001b[0;32m     10\u001b[0m plot_acc_loss(history)\n",
      "File \u001b[1;32mc:\\Software\\Anaconda\\envs\\project-bdt\\lib\\site-packages\\keras\\utils\\traceback_utils.py:67\u001b[0m, in \u001b[0;36mfilter_traceback.<locals>.error_handler\u001b[1;34m(*args, **kwargs)\u001b[0m\n\u001b[0;32m     65\u001b[0m \u001b[39mexcept\u001b[39;00m \u001b[39mException\u001b[39;00m \u001b[39mas\u001b[39;00m e:  \u001b[39m# pylint: disable=broad-except\u001b[39;00m\n\u001b[0;32m     66\u001b[0m   filtered_tb \u001b[39m=\u001b[39m _process_traceback_frames(e\u001b[39m.\u001b[39m__traceback__)\n\u001b[1;32m---> 67\u001b[0m   \u001b[39mraise\u001b[39;00m e\u001b[39m.\u001b[39mwith_traceback(filtered_tb) \u001b[39mfrom\u001b[39;00m \u001b[39mNone\u001b[39m\n\u001b[0;32m     68\u001b[0m \u001b[39mfinally\u001b[39;00m:\n\u001b[0;32m     69\u001b[0m   \u001b[39mdel\u001b[39;00m filtered_tb\n",
      "File \u001b[1;32mc:\\Software\\Anaconda\\envs\\project-bdt\\lib\\site-packages\\tensorflow\\python\\framework\\constant_op.py:102\u001b[0m, in \u001b[0;36mconvert_to_eager_tensor\u001b[1;34m(value, ctx, dtype)\u001b[0m\n\u001b[0;32m    100\u001b[0m     dtype \u001b[39m=\u001b[39m dtypes\u001b[39m.\u001b[39mas_dtype(dtype)\u001b[39m.\u001b[39mas_datatype_enum\n\u001b[0;32m    101\u001b[0m ctx\u001b[39m.\u001b[39mensure_initialized()\n\u001b[1;32m--> 102\u001b[0m \u001b[39mreturn\u001b[39;00m ops\u001b[39m.\u001b[39;49mEagerTensor(value, ctx\u001b[39m.\u001b[39;49mdevice_name, dtype)\n",
      "\u001b[1;31mValueError\u001b[0m: Failed to convert a NumPy array to a Tensor (Unsupported object type numpy.ndarray)."
     ]
    }
   ],
   "source": [
    "n_32 = [\n",
    "    tf.keras.layers.Conv2D(32, (3,3), activation='relu'),\n",
    "    tf.keras.layers.Conv2D(64, (3,3), activation='relu'),\n",
    "]\n",
    "\n",
    "# model, history = create_fit_model(n_32, X_train_2, y_train_2, X_test_2, y_test_2, EPOCHS=10)\n",
    "model = create_model(layers=n_32)\n",
    "history = model.fit(X_train, y_train, epochs=EPOCHS, validation_data=(X_test, y_test))\n",
    "evaluation_results = model.evaluate(X_train, y_train, batch_size=BATCH_SIZE)\n",
    "plot_acc_loss(history)"
   ]
  },
  {
   "cell_type": "code",
   "execution_count": null,
   "metadata": {},
   "outputs": [],
   "source": [
    "n_64 = [\n",
    "    tf.keras.layers.Conv2D(64, (3,3), activation='relu'),\n",
    "    tf.keras.layers.Conv2D(64, (3,3), activation='relu'),\n",
    "]\n",
    "model = create_model(layers=n_64)\n",
    "history = model.fit(X_train, y_train, epochs=EPOCHS, validation_data=(X_test, y_test))\n",
    "plot_acc_loss(history)"
   ]
  },
  {
   "cell_type": "code",
   "execution_count": null,
   "metadata": {},
   "outputs": [],
   "source": [
    "n_32_64 = [\n",
    "    tf.keras.layers.Conv2D(32, (3,3), activation='relu'),\n",
    "    tf.keras.layers.Conv2D(64, (3,3), activation='relu'),\n",
    "]\n",
    "model = create_model(layers=n_32_64)\n",
    "history = model.fit(X_train, y_train, epochs=EPOCHS, validation_data=(X_test, y_test))\n",
    "plot_acc_loss(history)"
   ]
  },
  {
   "cell_type": "code",
   "execution_count": null,
   "metadata": {},
   "outputs": [],
   "source": [
    "n_32_64_MP = [\n",
    "    tf.keras.layers.Conv2D(32, (3,3), padding='same', activation='relu'),\n",
    "    tf.keras.layers.MaxPooling2D((2, 2)),\n",
    "    tf.keras.layers.Conv2D(64, (3,3), padding='same', activation='relu'),\n",
    "]\n",
    "model = create_model(layers=n_32_64_MP)\n",
    "history = model.fit(X_train, y_train, epochs=EPOCHS, validation_data=(X_test, y_test))\n",
    "plot_acc_loss(history)"
   ]
  },
  {
   "cell_type": "code",
   "execution_count": null,
   "metadata": {},
   "outputs": [],
   "source": [
    "n_32_64_MP2 = [\n",
    "    tf.keras.layers.Conv2D(32, (3,3), padding='same', activation='relu'),\n",
    "    tf.keras.layers.MaxPooling2D((2, 2)),\n",
    "    tf.keras.layers.Conv2D(64, (3,3), padding='same', activation='relu'),\n",
    "    tf.keras.layers.MaxPooling2D((2, 2)),\n",
    "]\n",
    "model = create_model(layers=n_32_64_MP2)\n",
    "history = model.fit(X_train, y_train, epochs=EPOCHS, validation_data=(X_test, y_test))\n",
    "plot_acc_loss(history)"
   ]
  },
  {
   "cell_type": "code",
   "execution_count": null,
   "metadata": {},
   "outputs": [],
   "source": [
    "\n",
    "n_64_MP2 = [\n",
    "    tf.keras.layers.Conv2D(64, (3,3), padding='same', activation='relu'),\n",
    "    tf.keras.layers.MaxPooling2D((2, 2)),\n",
    "    tf.keras.layers.Conv2D(64, (3,3), padding='same', activation='relu'),\n",
    "    tf.keras.layers.MaxPooling2D((2, 2)),\n",
    "]\n",
    "model = create_model(layers=n_64_MP2)\n",
    "history = model.fit(X_train, y_train, epochs=EPOCHS, validation_data=(X_test, y_test))\n",
    "plot_acc_loss(history)"
   ]
  },
  {
   "cell_type": "code",
   "execution_count": null,
   "metadata": {},
   "outputs": [],
   "source": [
    "# data augmentation layers\n",
    "n_DA_64_MP2 = [\n",
    "    tf.keras.layers.RandomFlip('horizontal'),\n",
    "    tf.keras.layers.RandomRotation(0.2),\n",
    "    tf.keras.layers.Conv2D(64, (3,3), padding='same', activation='relu'),\n",
    "    tf.keras.layers.MaxPooling2D((2, 2)),\n",
    "    tf.keras.layers.Conv2D(64, (3,3), padding='same', activation='relu'),\n",
    "    tf.keras.layers.MaxPooling2D((2, 2)),\n",
    "]\n",
    "\n",
    "model = create_model(layers=n_DA_64_MP2)\n",
    "history = model.fit(X_train, y_train, epochs=EPOCHS, validation_data=(X_test, y_test))\n",
    "plot_acc_loss(history)"
   ]
  },
  {
   "cell_type": "code",
   "execution_count": null,
   "metadata": {},
   "outputs": [],
   "source": [
    "# data augmentation layers\n",
    "n_DA_64_MP2_conv3 = [\n",
    "    tf.keras.layers.RandomFlip('horizontal'),\n",
    "    tf.keras.layers.RandomRotation(0.2),\n",
    "    tf.keras.layers.Conv2D(64, (3,3), padding='same', activation='relu'),\n",
    "    tf.keras.layers.MaxPooling2D((2, 2)),\n",
    "    tf.keras.layers.Conv2D(64, (3,3), padding='same', activation='relu'),\n",
    "    tf.keras.layers.MaxPooling2D((2, 2)),\n",
    "    tf.keras.layers.Conv2D(32, (3,3), padding='same', activation='relu'),\n",
    "]\n",
    "\n",
    "model = create_model(layers=n_DA_64_MP2)\n",
    "history = model.fit(X_train, y_train, epochs=EPOCHS, validation_data=(X_test, y_test))\n",
    "plot_acc_loss(history)"
   ]
  }
 ],
 "metadata": {
  "kernelspec": {
   "display_name": "project-bdt",
   "language": "python",
   "name": "python3"
  },
  "language_info": {
   "codemirror_mode": {
    "name": "ipython",
    "version": 3
   },
   "file_extension": ".py",
   "mimetype": "text/x-python",
   "name": "python",
   "nbconvert_exporter": "python",
   "pygments_lexer": "ipython3",
   "version": "3.9.15"
  },
  "orig_nbformat": 4,
  "vscode": {
   "interpreter": {
    "hash": "cda239b1dd777d01df567143bbbda5f1e26f67cd0d962f9425eb41a04df5b565"
   }
  }
 },
 "nbformat": 4,
 "nbformat_minor": 2
}
