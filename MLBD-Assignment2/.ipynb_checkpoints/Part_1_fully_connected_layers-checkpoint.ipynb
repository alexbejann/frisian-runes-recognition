{
 "cells": [
  {
   "cell_type": "markdown",
   "metadata": {},
   "source": [
    "# Part 1: Fully Connected Layers\n",
    "\n",
    "Daniel-Alexandru Bejan (474404)\n",
    "Patrick Schaper (534366)"
   ]
  },
  {
   "cell_type": "markdown",
   "metadata": {},
   "source": [
    "The deep learning assignment consists of two parts. At first you will experiment with\n",
    "fully-connected networks. \n",
    "\n",
    "You are going to build multiple neural networks with varying\n",
    "structures and activation functions for a given dataset.\n",
    "\n",
    "In the second assignment you are going to build convolutional neural networks for image\n",
    "classification purposes.\n",
    "\n",
    "If you want to boost your grade (> 8.0), please have a look at the extra section."
   ]
  },
  {
   "cell_type": "code",
   "execution_count": 1,
   "metadata": {},
   "outputs": [
    {
     "name": "stdout",
     "output_type": "stream",
     "text": [
      "      dice1  dice2  dice3  dice4  dice5           label\n",
      "0         3      6      6      2      5         nothing\n",
      "1         3      6      1      3      4         nothing\n",
      "2         2      2      5      5      3         nothing\n",
      "3         1      3      6      6      1         nothing\n",
      "4         1      4      6      3      5  small-straight\n",
      "...     ...    ...    ...    ...    ...             ...\n",
      "5827      5      6      6      5      5      full-house\n",
      "5828      1      3      1      2      3         nothing\n",
      "5829      1      1      5      5      3         nothing\n",
      "5830      3      3      6      4      2         nothing\n",
      "5831      5      2      1      1      5         nothing\n",
      "\n",
      "[5832 rows x 6 columns]\n"
     ]
    }
   ],
   "source": [
    "import pandas as pd\n",
    "\n",
    "df = pd.read_csv('MLBD-dataset-yahtzee.csv')\n",
    "\n",
    "print(df) "
   ]
  }
 ],
 "metadata": {
  "kernelspec": {
   "display_name": "Python 3 (ipykernel)",
   "language": "python",
   "name": "python3"
  },
  "language_info": {
   "codemirror_mode": {
    "name": "ipython",
    "version": 3
   },
   "file_extension": ".py",
   "mimetype": "text/x-python",
   "name": "python",
   "nbconvert_exporter": "python",
   "pygments_lexer": "ipython3",
   "version": "3.9.15"
  },
  "vscode": {
   "interpreter": {
    "hash": "fca98ced75e3b70b02ac3b0fddc14254b9e3b048d240659196fc27e019c1f4a1"
   }
  }
 },
 "nbformat": 4,
 "nbformat_minor": 2
}
