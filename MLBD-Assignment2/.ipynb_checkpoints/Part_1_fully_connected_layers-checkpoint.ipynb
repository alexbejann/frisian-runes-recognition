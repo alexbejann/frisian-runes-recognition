{
 "cells": [
  {
   "cell_type": "markdown",
   "metadata": {},
   "source": [
    "# Part 1: Fully Connected Layers\n",
    "\n",
    "Daniel-Alexandru Bejan (474404)\n",
    "Patrick Schaper (534366)"
   ]
  },
  {
   "cell_type": "markdown",
   "metadata": {},
   "source": [
    "The provided dataset contains possible combinations for the game Yathzee. If you don’t know the rules for this dice game, please have a look at: https://en.wikipedia.org/wiki/Yahtzee.\n",
    "\n",
    "Please note: the dataset is imbalanced. This means that you might need to balance it first\n",
    "before you will get good results! There a several possible solutions, please read: https://towardsdatascience.com/handling-imbalanced-datasets-in-deep-learning-f48407a0e758 for a better understanding.\n",
    "\n",
    "You will need to build a neural network that is able to predict the label for 5 thrown dice. The available labels are mentioned in the table below.\n",
    "\n",
    "- 3-of-a-kind: Three dice the same.\n",
    "- 4-of-a-kind: Four dice the same.\n",
    "- Full-house: Three of one number and two of another\n",
    "- small-straight Four sequential dice: (1-2-3-4, 2-3-4-5, or 3-4-5-6)\n",
    "- Large-straight Five sequential dice: (1-2-3-4-5 or 2-3-4-5-6)\n",
    "- Yathzee: All five dice the same\n",
    "- Nothing: None of the above combinations has been thrown\n",
    "\n",
    "**Goal of the assignment**\n",
    "\n",
    "The overall goal is to experiment with deep learning and find out what gives you the\n",
    "best results. Don’t forget to compare the results and write a conclusion!\n",
    "Experiments we expect you to carry out:\n",
    "- Playing around with different networks sizes\n",
    " - Different number of layers\n",
    " - Different number of neurons per layer\n",
    " - At least 6 different networks with a minimum of 1 hidden layer per network\n",
    "- Comparison of different activation functions:\n",
    " - Sigmoid\n",
    " - Tanh\n",
    " - ReLu\n",
    "- Difference with and without dropout.\n",
    "\n",
    "The notebook should contain:\n",
    "- For each neural network that you train: graphs from TensorBoard or Matplotlib showing the accuracy and the loss for train set and validation set and the accuracy scores for the test set.\n",
    "- Your observations and conclusions per network (and graph)!\n",
    "- An export of your best trained network and a way to run this exported model.\n",
    "\n",
    "**Hints**\n",
    "\n",
    "In order to build proper neural networks, keep in mind:\n",
    "- Convert the labels into one-hot-encoded values.\n",
    "- Use cross-entropy as loss function for classification.\n",
    "- Create a proper output layer that uses SoftMax activation.\n",
    "- Use the accuracy metric to measure your classification performance.\n",
    "- Avoid overfitting by using dropout, a test set (which you use in the end) and cross validation.\n",
    "\n",
    "Export your best model and add a cell to your notebook that loads the model and is\n",
    "able to validate your model, by loading in a dataset from file and feeding it into the\n",
    "network. This cell should show the accuracy of the classifier.\n"
   ]
  },
  {
   "cell_type": "markdown",
   "metadata": {},
   "source": [
    "## Analyse the Data"
   ]
  },
  {
   "cell_type": "code",
   "execution_count": 1,
   "metadata": {},
   "outputs": [
    {
     "data": {
      "text/html": [
       "<div>\n",
       "<style scoped>\n",
       "    .dataframe tbody tr th:only-of-type {\n",
       "        vertical-align: middle;\n",
       "    }\n",
       "\n",
       "    .dataframe tbody tr th {\n",
       "        vertical-align: top;\n",
       "    }\n",
       "\n",
       "    .dataframe thead th {\n",
       "        text-align: right;\n",
       "    }\n",
       "</style>\n",
       "<table border=\"1\" class=\"dataframe\">\n",
       "  <thead>\n",
       "    <tr style=\"text-align: right;\">\n",
       "      <th></th>\n",
       "      <th>dice1</th>\n",
       "      <th>dice2</th>\n",
       "      <th>dice3</th>\n",
       "      <th>dice4</th>\n",
       "      <th>dice5</th>\n",
       "      <th>label</th>\n",
       "    </tr>\n",
       "  </thead>\n",
       "  <tbody>\n",
       "    <tr>\n",
       "      <th>0</th>\n",
       "      <td>3</td>\n",
       "      <td>6</td>\n",
       "      <td>6</td>\n",
       "      <td>2</td>\n",
       "      <td>5</td>\n",
       "      <td>nothing</td>\n",
       "    </tr>\n",
       "    <tr>\n",
       "      <th>1</th>\n",
       "      <td>3</td>\n",
       "      <td>6</td>\n",
       "      <td>1</td>\n",
       "      <td>3</td>\n",
       "      <td>4</td>\n",
       "      <td>nothing</td>\n",
       "    </tr>\n",
       "    <tr>\n",
       "      <th>2</th>\n",
       "      <td>2</td>\n",
       "      <td>2</td>\n",
       "      <td>5</td>\n",
       "      <td>5</td>\n",
       "      <td>3</td>\n",
       "      <td>nothing</td>\n",
       "    </tr>\n",
       "    <tr>\n",
       "      <th>3</th>\n",
       "      <td>1</td>\n",
       "      <td>3</td>\n",
       "      <td>6</td>\n",
       "      <td>6</td>\n",
       "      <td>1</td>\n",
       "      <td>nothing</td>\n",
       "    </tr>\n",
       "    <tr>\n",
       "      <th>4</th>\n",
       "      <td>1</td>\n",
       "      <td>4</td>\n",
       "      <td>6</td>\n",
       "      <td>3</td>\n",
       "      <td>5</td>\n",
       "      <td>small-straight</td>\n",
       "    </tr>\n",
       "  </tbody>\n",
       "</table>\n",
       "</div>"
      ],
      "text/plain": [
       "   dice1  dice2  dice3  dice4  dice5           label\n",
       "0      3      6      6      2      5         nothing\n",
       "1      3      6      1      3      4         nothing\n",
       "2      2      2      5      5      3         nothing\n",
       "3      1      3      6      6      1         nothing\n",
       "4      1      4      6      3      5  small-straight"
      ]
     },
     "execution_count": 1,
     "metadata": {},
     "output_type": "execute_result"
    }
   ],
   "source": [
    "import pandas as pd\n",
    "import numpy as np\n",
    "\n",
    "raw_df = pd.read_csv('MLBD-dataset-yahtzee.csv')\n",
    "raw_df.head() "
   ]
  },
  {
   "cell_type": "code",
   "execution_count": 2,
   "metadata": {},
   "outputs": [
    {
     "name": "stdout",
     "output_type": "stream",
     "text": [
      "<class 'pandas.core.frame.DataFrame'>\n",
      "RangeIndex: 5832 entries, 0 to 5831\n",
      "Data columns (total 6 columns):\n",
      " #   Column  Non-Null Count  Dtype \n",
      "---  ------  --------------  ----- \n",
      " 0   dice1   5832 non-null   int64 \n",
      " 1   dice2   5832 non-null   int64 \n",
      " 2   dice3   5832 non-null   int64 \n",
      " 3   dice4   5832 non-null   int64 \n",
      " 4   dice5   5832 non-null   int64 \n",
      " 5   label   5832 non-null   object\n",
      "dtypes: int64(5), object(1)\n",
      "memory usage: 273.5+ KB\n"
     ]
    }
   ],
   "source": [
    "raw_df.info()"
   ]
  },
  {
   "cell_type": "code",
   "execution_count": 3,
   "metadata": {},
   "outputs": [
    {
     "data": {
      "text/plain": [
       "label\n",
       "four-of-a-kind      116\n",
       "full-house          221\n",
       "large-straight      178\n",
       "nothing            3868\n",
       "small-straight      549\n",
       "three-of-a-kind     896\n",
       "yathzee               4\n",
       "Name: label, dtype: int64"
      ]
     },
     "execution_count": 3,
     "metadata": {},
     "output_type": "execute_result"
    }
   ],
   "source": [
    "raw_df.groupby(['label'])['label'].count()"
   ]
  },
  {
   "cell_type": "markdown",
   "metadata": {},
   "source": [
    "### First result of analysing\n",
    "\n",
    "We see a very unbalanced data set. One rubric stands out particularly strongly. The number of \"yathzee's\" is just 4. According to the rules of the game, a \"yathzee\" occurs when all dice show the same number. So we add the missing records."
   ]
  },
  {
   "cell_type": "code",
   "execution_count": 4,
   "metadata": {},
   "outputs": [
    {
     "data": {
      "text/html": [
       "<div>\n",
       "<style scoped>\n",
       "    .dataframe tbody tr th:only-of-type {\n",
       "        vertical-align: middle;\n",
       "    }\n",
       "\n",
       "    .dataframe tbody tr th {\n",
       "        vertical-align: top;\n",
       "    }\n",
       "\n",
       "    .dataframe thead th {\n",
       "        text-align: right;\n",
       "    }\n",
       "</style>\n",
       "<table border=\"1\" class=\"dataframe\">\n",
       "  <thead>\n",
       "    <tr style=\"text-align: right;\">\n",
       "      <th></th>\n",
       "      <th>dice1</th>\n",
       "      <th>dice2</th>\n",
       "      <th>dice3</th>\n",
       "      <th>dice4</th>\n",
       "      <th>dice5</th>\n",
       "      <th>label</th>\n",
       "    </tr>\n",
       "  </thead>\n",
       "  <tbody>\n",
       "    <tr>\n",
       "      <th>1101</th>\n",
       "      <td>5</td>\n",
       "      <td>5</td>\n",
       "      <td>5</td>\n",
       "      <td>5</td>\n",
       "      <td>5</td>\n",
       "      <td>yathzee</td>\n",
       "    </tr>\n",
       "    <tr>\n",
       "      <th>1180</th>\n",
       "      <td>2</td>\n",
       "      <td>2</td>\n",
       "      <td>2</td>\n",
       "      <td>2</td>\n",
       "      <td>2</td>\n",
       "      <td>yathzee</td>\n",
       "    </tr>\n",
       "    <tr>\n",
       "      <th>1602</th>\n",
       "      <td>6</td>\n",
       "      <td>6</td>\n",
       "      <td>6</td>\n",
       "      <td>6</td>\n",
       "      <td>6</td>\n",
       "      <td>yathzee</td>\n",
       "    </tr>\n",
       "    <tr>\n",
       "      <th>5504</th>\n",
       "      <td>3</td>\n",
       "      <td>3</td>\n",
       "      <td>3</td>\n",
       "      <td>3</td>\n",
       "      <td>3</td>\n",
       "      <td>yathzee</td>\n",
       "    </tr>\n",
       "  </tbody>\n",
       "</table>\n",
       "</div>"
      ],
      "text/plain": [
       "      dice1  dice2  dice3  dice4  dice5    label\n",
       "1101      5      5      5      5      5  yathzee\n",
       "1180      2      2      2      2      2  yathzee\n",
       "1602      6      6      6      6      6  yathzee\n",
       "5504      3      3      3      3      3  yathzee"
      ]
     },
     "execution_count": 4,
     "metadata": {},
     "output_type": "execute_result"
    }
   ],
   "source": [
    "raw_df[raw_df['label'] == 'yathzee']"
   ]
  },
  {
   "cell_type": "code",
   "execution_count": 5,
   "metadata": {},
   "outputs": [],
   "source": [
    "df = raw_df.copy()\n",
    "\n",
    "df.loc[len(df.index)] = [1,1,1,1,1,'yathzee']\n",
    "df.loc[len(df.index)] = [4,4,4,4,4,'yathzee']"
   ]
  },
  {
   "cell_type": "code",
   "execution_count": 6,
   "metadata": {},
   "outputs": [
    {
     "name": "stdout",
     "output_type": "stream",
     "text": [
      "Class=0, n=3868 (66.301%)\n",
      "Class=1, n=549 (9.410%)\n",
      "Class=2, n=896 (15.358%)\n",
      "Class=3, n=178 (3.051%)\n",
      "Class=4, n=221 (3.788%)\n",
      "Class=5, n=116 (1.988%)\n",
      "Class=6, n=6 (0.103%)\n"
     ]
    },
    {
     "data": {
      "image/png": "[encoded data removed]",
      "text/plain": [
       "<Figure size 640x480 with 1 Axes>"
      ]
     },
     "metadata": {},
     "output_type": "display_data"
    }
   ],
   "source": [
    "from collections import Counter\n",
    "import matplotlib.pyplot as plt\n",
    "from sklearn.preprocessing import LabelEncoder\n",
    "\n",
    "y_labels = df.label.unique()\n",
    "df.label = pd.factorize(df.label)[0]\n",
    "\n",
    "features = []\n",
    "for feature in df.columns:\n",
    "    if feature != 'label':\n",
    "        features.append(feature)\n",
    "X = df[features]\n",
    "y = df['label']\n",
    "\n",
    "y_encoded = LabelEncoder().fit_transform(y)\n",
    "\n",
    "counter = Counter(y_encoded)\n",
    "for k,v in counter.items():\n",
    "    per = v / len(y) * 100\n",
    "    print('Class=%d, n=%d (%.3f%%)' % (k, v, per))\n",
    "    \n",
    "plt.bar(counter.keys(), counter.values())\n",
    "plt.show()"
   ]
  },
  {
   "cell_type": "code",
   "execution_count": 7,
   "metadata": {},
   "outputs": [],
   "source": [
    "from sklearn.model_selection import train_test_split\n",
    "\n",
    "X_train, X_test, y_train, y_test = train_test_split(X, y, test_size=0.2, random_state=123)"
   ]
  },
  {
   "cell_type": "code",
   "execution_count": 8,
   "metadata": {},
   "outputs": [
    {
     "data": {
      "text/plain": [
       "(array([0, 1, 2, 3, 4, 5, 6]),\n",
       " array([3065,  443,  740,  143,  173,   98,    5]))"
      ]
     },
     "execution_count": 8,
     "metadata": {},
     "output_type": "execute_result"
    }
   ],
   "source": [
    "np.unique(y_train, return_counts=True)"
   ]
  },
  {
   "cell_type": "raw",
   "metadata": {},
   "source": [
    "from imblearn.under_sampling import ClusterCentroids\n",
    "from imblearn.over_sampling import SMOTE\n",
    "\n",
    "n_samples = int(round(np.unique(y_train, return_counts=True)[1].mean()))\n",
    "\n",
    "def sampling_strategy(X, y, n_samples, t='majority'):\n",
    "    target_classes = ''\n",
    "    if t == 'majority':\n",
    "        target_classes = y.value_counts() > n_samples\n",
    "    elif t == 'minority':\n",
    "        target_classes = y.value_counts() < n_samples\n",
    "    tc = target_classes[target_classes == True].index\n",
    "    #target_classes_all = y.value_counts().index\n",
    "    sampling_strategy = {}\n",
    "    for target in tc:\n",
    "        sampling_strategy[target] = n_samples\n",
    "    return sampling_strategy\n",
    "\n",
    "under_sampler = ClusterCentroids(sampling_strategy=sampling_strategy(X_train, y_train, n_samples, t='majority'), random_state=1337)\n",
    "X_under, y_under = under_sampler.fit_resample(X_train, y_train)\n",
    "\n",
    "over_sampler = SMOTE(sampling_strategy=sampling_strategy(X_under, y_under, n_samples, t='minority'), k_neighbors=2, random_state=1337)\n",
    "\n",
    "X_bal, y_bal = over_sampler.fit_resample(X_under, y_under)\n",
    "\n",
    "count = y_bal.value_counts()\n",
    "count.plot.bar()\n",
    "plt.ylabel('Number of records')\n",
    "plt.xlabel('Target Class')\n",
    "plt.show()"
   ]
  },
  {
   "cell_type": "code",
   "execution_count": 9,
   "metadata": {},
   "outputs": [
    {
     "data": {
      "text/plain": [
       "(array([0, 1, 2, 3, 4, 5, 6]),\n",
       " array([3022, 3065, 3065, 3065, 3065, 3065, 3065]))"
      ]
     },
     "execution_count": 9,
     "metadata": {},
     "output_type": "execute_result"
    }
   ],
   "source": [
    "from imblearn.combine import SMOTETomek\n",
    "from imblearn.under_sampling import TomekLinks\n",
    "from imblearn.over_sampling import SMOTE\n",
    "\n",
    "resample = SMOTETomek(random_state=1337, tomek=TomekLinks(sampling_strategy='majority'), smote=SMOTE(k_neighbors=3))\n",
    "X_bal, y_bal = resample.fit_resample(X_train, y_train)\n",
    "\n",
    "np.unique(y_bal, return_counts=True)"
   ]
  },
  {
   "cell_type": "raw",
   "metadata": {},
   "source": [
    "from sklearn.preprocessing import MinMaxScaler\n",
    "\n",
    "# Min-Max-Skalierungs-Transformer erstellen\n",
    "scaler = MinMaxScaler()\n",
    "\n",
    "# Fit the transformer on the training data\n",
    "scaler.fit(X_train)\n",
    "\n",
    "X_train = scaler.transform(X_train)\n",
    "X_test = scaler.transform(X_test)\n",
    "\n",
    "X_bal = X_train\n",
    "y_bal = y_train"
   ]
  },
  {
   "cell_type": "code",
   "execution_count": null,
   "metadata": {},
   "outputs": [],
   "source": []
  },
  {
   "cell_type": "code",
   "execution_count": 10,
   "metadata": {},
   "outputs": [
    {
     "name": "stderr",
     "output_type": "stream",
     "text": [
      "2023-01-22 16:16:06.158369: I tensorflow/core/platform/cpu_feature_guard.cc:193] This TensorFlow binary is optimized with oneAPI Deep Neural Network Library (oneDNN) to use the following CPU instructions in performance-critical operations:  SSE4.1 SSE4.2\n",
      "To enable them in other operations, rebuild TensorFlow with the appropriate compiler flags.\n"
     ]
    }
   ],
   "source": [
    "import tensorflow as tf\n",
    "\n",
    "from tensorflow import keras\n",
    "from tensorflow.keras.models import Sequential\n",
    "from tensorflow.keras.optimizers import SGD, Adam, Adagrad, Nadam\n",
    "from tensorflow.keras.layers import Dense, Activation, Dropout, BatchNormalization, Normalization\n",
    "from keras.callbacks import History\n",
    "from sklearn.utils import class_weight"
   ]
  },
  {
   "cell_type": "code",
   "execution_count": 11,
   "metadata": {},
   "outputs": [
    {
     "name": "stderr",
     "output_type": "stream",
     "text": [
      "2023-01-22 16:16:07.932357: I tensorflow/core/platform/cpu_feature_guard.cc:193] This TensorFlow binary is optimized with oneAPI Deep Neural Network Library (oneDNN) to use the following CPU instructions in performance-critical operations:  SSE4.1 SSE4.2\n",
      "To enable them in other operations, rebuild TensorFlow with the appropriate compiler flags.\n"
     ]
    }
   ],
   "source": [
    "normalizer = keras.layers.Normalization()\n",
    "normalizer.adapt(X_bal)"
   ]
  },
  {
   "cell_type": "code",
   "execution_count": 12,
   "metadata": {},
   "outputs": [],
   "source": [
    "def evaluat_my_model(model, input_data, output_data):\n",
    "    \n",
    "    output_data = output_data.values.reshape(-1,1)\n",
    "    output_data = tf.keras.utils.to_categorical(output_data, np.unique(output_data).size)\n",
    "    \n",
    "    evaluation_results = model.evaluate(input_data, output_data)\n",
    "\n",
    "    return evaluation_results"
   ]
  },
  {
   "cell_type": "code",
   "execution_count": 13,
   "metadata": {},
   "outputs": [],
   "source": [
    "models = []\n",
    "\n",
    "def create_model(input_data, output_data, layers=[], optimizer=\"adam\", endActi=\"softmax\"):\n",
    "    \n",
    "    learningRate = 0.001\n",
    "    \n",
    "    inputNeurons = input_data.shape[1]\n",
    "    outputNeurons = np.unique(output_data).size\n",
    "    \n",
    "    model = Sequential()\n",
    "    \n",
    "    firstLayer = True\n",
    "    \n",
    "    for layer in layers:\n",
    "        if(firstLayer):\n",
    "            model.add(Dense(layer[0], input_shape=(inputNeurons,), activation=layer[1]))\n",
    "            firstLayer = False\n",
    "        else:\n",
    "            model.add(Dense(layer[0], activation=layer[1]))\n",
    "            \n",
    "        model.add(BatchNormalization())\n",
    "        \n",
    "        if(2 < len(layer)):\n",
    "            model.add(Dropout(layer[2]))\n",
    "    \n",
    "    model.add(Dense(outputNeurons, activation=endActi))\n",
    "    \n",
    "    if optimizer == \"adam\":\n",
    "        opti = Adam(learning_rate=learningRate)\n",
    "    elif optimizer == \"nadam\":\n",
    "        opti = Nadam(learning_rate=learningRate)\n",
    "    elif optimizer == \"sgd\":\n",
    "        opti = SGD(learning_rate=learningRate)\n",
    "    elif optimizer == \"adagrad\":\n",
    "        opti = Adagrad(learning_rate=learningRate)\n",
    "    else:\n",
    "        opti = optimizer\n",
    "    \n",
    "    model.compile(loss=\"categorical_crossentropy\", optimizer=opti, metrics=[\"accuracy\"], sample_weight_mode=\"temporary\",)\n",
    "    \n",
    "    return model\n",
    "\n",
    "def create_fit_model(input_data, output_data, layers=[], optimizer=\"adam\", endActi=\"softmax\", batchSize=50, epochs=100, verbose=0, withHistory=0):\n",
    "        \n",
    "        model = create_model(input_data, output_data, layers, optimizer=optimizer, endActi=endActi)\n",
    "    \n",
    "        #class_weights = class_weight.compute_class_weight( class_weight = \"balanced\", classes = np.unique(y_bal), y = y_bal)\n",
    "    \n",
    "        inputNeurons = input_data.shape[1]\n",
    "        outputNeurons = np.unique(output_data).size\n",
    "\n",
    "        output_data = output_data.values.reshape(-1,1)\n",
    "        output_data = tf.keras.utils.to_categorical(output_data, outputNeurons)\n",
    "        y_test_cat = tf.keras.utils.to_categorical(y_test, outputNeurons)\n",
    "        \n",
    "        history = History()\n",
    "        history = model.fit(x=input_data, y=output_data, batch_size=batchSize, epochs=epochs, verbose=verbose, shuffle=True, validation_split=0.2, callbacks=[history])\n",
    "        evaluate = evaluat_my_model(model=model, input_data=X_test, output_data=y_test)\n",
    "        models.append({\n",
    "            'layers':layers,\n",
    "            'optimizer':optimizer,\n",
    "            'batchSize':batchSize,\n",
    "            'epochs':epochs,\n",
    "            'endActi':endActi,\n",
    "            'loss':history['loss'],\n",
    "            'accuracy':history['accuracy'],\n",
    "            'val_accuracy':history['val_accuracy']\n",
    "            })\n",
    "        \n",
    "        if withHistory == 1:\n",
    "            return model, history\n",
    "        return model\n",
    "\n",
    "def plot_acc_loss(history):\n",
    "    plt.figure(figsize=(20,8))\n",
    "    \n",
    "    plt.subplot(1,2,1)\n",
    "    plt.plot(history.history['accuracy'])\n",
    "    plt.plot(history.history['val_accuracy'])\n",
    "    plt.title('model accuracy')\n",
    "    plt.ylabel('accuracy')\n",
    "    plt.xlabel('epoch')\n",
    "    plt.legend(['train', 'test'], loc='upper left')\n",
    "    \n",
    "    plt.subplot(1,2,2)\n",
    "    plt.plot(history.history['loss'])\n",
    "    plt.plot(history.history['val_loss'])\n",
    "    plt.title('model loss')\n",
    "    plt.ylabel('loss')\n",
    "    plt.xlabel('epoch')\n",
    "    plt.legend(['train', 'test'], loc='upper left')\n",
    "    \n",
    "    plt.show()"
   ]
  },
  {
   "cell_type": "code",
   "execution_count": null,
   "metadata": {},
   "outputs": [],
   "source": [
    "layers = [(300,\"relu\"),\n",
    "          (210,\"relu\",0.2),\n",
    "            (130,\"relu\",0.2),\n",
    "         (80,\"relu\",0.2)]\n",
    "model, history = create_fit_model(input_data=X_bal, output_data=y_bal, layers=layers, optimizer=\"adam\", endActi=\"softmax\", batchSize=10, epochs=50, verbose=0, withHistory=1)\n",
    "plot_acc_loss(history)"
   ]
  },
  {
   "cell_type": "code",
   "execution_count": null,
   "metadata": {},
   "outputs": [],
   "source": [
    "layers = [(300,\"relu\"),\n",
    "          (210,\"relu\",0.2),\n",
    "            (130,\"relu\",0.2),\n",
    "         (80,\"relu\",0.2)]\n",
    "model, history = create_fit_model(input_data=X_bal, output_data=y_bal, layers=layers, optimizer=\"adagrad\", endActi=\"softmax\", batchSize=10, epochs=50, verbose=0, withHistory=1)\n",
    "plot_acc_loss(history)"
   ]
  },
  {
   "cell_type": "code",
   "execution_count": null,
   "metadata": {},
   "outputs": [],
   "source": [
    "layers = [(300,\"relu\"),\n",
    "          (210,\"relu\",0.2),\n",
    "            (130,\"relu\",0.2),\n",
    "         (80,\"relu\",0.2)]\n",
    "model, history = create_fit_model(input_data=X_bal, output_data=y_bal, layers=layers, optimizer=\"sgd\", endActi=\"softmax\", batchSize=10, epochs=50, verbose=0, withHistory=1)\n",
    "plot_acc_loss(history)"
   ]
  },
  {
   "cell_type": "code",
   "execution_count": null,
   "metadata": {},
   "outputs": [],
   "source": [
    "layers = [(300,\"relu\"),\n",
    "          (210,\"sigmoid\",0.2),\n",
    "            (130,\"relu\",0.2),\n",
    "         (80,\"relu\",0.2)]\n",
    "model, history = create_fit_model(input_data=X_bal, output_data=y_bal, layers=layers, optimizer=\"sgd\", endActi=\"softmax\", batchSize=10, epochs=50, verbose=0, withHistory=1)\n",
    "plot_acc_loss(history)"
   ]
  },
  {
   "cell_type": "code",
   "execution_count": null,
   "metadata": {},
   "outputs": [],
   "source": [
    "layers = [(300,\"relu\"),\n",
    "          (210,\"tanh\",0.2),\n",
    "            (130,\"relu\",0.2),\n",
    "         (80,\"relu\",0.2)]\n",
    "model, history = create_fit_model(input_data=X_bal, output_data=y_bal, layers=layers, optimizer=\"sgd\", endActi=\"softmax\", batchSize=10, epochs=50, verbose=0, withHistory=1)\n",
    "plot_acc_loss(history)"
   ]
  },
  {
   "cell_type": "code",
   "execution_count": null,
   "metadata": {},
   "outputs": [],
   "source": [
    "layers = [(300,\"relu\"),\n",
    "          (210,\"sigmoid\"),\n",
    "            (130,\"relu\"),\n",
    "         (80,\"relu\")]\n",
    "model, history = create_fit_model(input_data=X_bal, output_data=y_bal, layers=layers, optimizer=\"adam\", endActi=\"softmax\", batchSize=10, epochs=50, verbose=0, withHistory=1)\n",
    "plot_acc_loss(history)"
   ]
  },
  {
   "cell_type": "code",
   "execution_count": null,
   "metadata": {},
   "outputs": [],
   "source": [
    "layers = [(300,\"relu\"),\n",
    "          (210,\"sigmoid\")]\n",
    "model, history = create_fit_model(input_data=X_bal, output_data=y_bal, layers=layers, optimizer=\"adam\", endActi=\"softmax\", batchSize=10, epochs=50, verbose=0, withHistory=1)\n",
    "plot_acc_loss(history)"
   ]
  },
  {
   "cell_type": "code",
   "execution_count": null,
   "metadata": {},
   "outputs": [],
   "source": [
    "layers = [(50,\"relu\"),\n",
    "            (25,\"relu\",0.2),\n",
    "         (10,\"sigmoid\",0.3),\n",
    "         (5,\"relu\",0.2)]\n",
    "model, history = create_fit_model(input_data=X_bal, output_data=y_bal, layers=layers, optimizer=\"sgd\", endActi=\"softmax\", batchSize=16, epochs=100, verbose=0, withHistory=1)\n",
    "plot_acc_loss(history)"
   ]
  },
  {
   "cell_type": "code",
   "execution_count": null,
   "metadata": {},
   "outputs": [],
   "source": [
    "layers = [(300,\"tanh\"),\n",
    "         (170,\"tanh\"),\n",
    "         (100,\"tanh\")]\n",
    "model, history = create_fit_model(input_data=X_bal, output_data=y_bal, layers=layers, optimizer=\"nadam\", endActi=\"softmax\", batchSize=16, epochs=100, verbose=0, withHistory=1)\n",
    "plot_acc_loss(history)"
   ]
  },
  {
   "cell_type": "code",
   "execution_count": null,
   "metadata": {},
   "outputs": [],
   "source": [
    "models"
   ]
  },
  {
   "cell_type": "code",
   "execution_count": null,
   "metadata": {},
   "outputs": [],
   "source": [
    "def get_best_acc_model():\n",
    "    bestItem = max(models, key=lambda x:x['accuracy'])\n",
    "    return bestItem\n",
    "def get_best_loss_model():\n",
    "    bestItem = min(models, key=lambda x:x['loss'])\n",
    "    return bestItem"
   ]
  },
  {
   "cell_type": "code",
   "execution_count": null,
   "metadata": {},
   "outputs": [],
   "source": [
    "best_model = get_best_acc_model()\n",
    "best_model"
   ]
  },
  {
   "cell_type": "code",
   "execution_count": null,
   "metadata": {},
   "outputs": [],
   "source": [
    "layers = best_model['layers']\n",
    "model,history = create_fit_model(input_data=X_bal, output_data=y_bal, layers=layers, optimizer=best_model['optimizer'], endActi=best_model['endActi'], batchSize=best_model['batchSize'], epochs=best_model['epochs'], verbose=0, withHistory=1)"
   ]
  },
  {
   "cell_type": "code",
   "execution_count": null,
   "metadata": {},
   "outputs": [],
   "source": [
    "model.save('best_model')\n",
    "model = 0"
   ]
  },
  {
   "cell_type": "code",
   "execution_count": null,
   "metadata": {},
   "outputs": [],
   "source": [
    "model = keras.models.load_model('best_model')"
   ]
  },
  {
   "cell_type": "code",
   "execution_count": null,
   "metadata": {},
   "outputs": [],
   "source": [
    "from sklearn.metrics import classification_report\n",
    "from sklearn.metrics import confusion_matrix\n",
    "\n",
    "def analyse_my_mode(model, history):\n",
    "    model.summary()\n",
    "    print(\"\\n\")\n",
    "    predictions = model.predict(X_test, verbose=0)\n",
    "    y_pred = (predictions > 0.5)\n",
    "    y_test_=y_test.astype(int).tolist()\n",
    "    print(confusion_matrix(y_test_, y_pred.argmax(axis=1)))\n",
    "    print(\"\\n\")\n",
    "    print(classification_report(y_true=y_test_,y_pred=y_pred.argmax(axis=1), target_names=y_labels,zero_division=0))\n",
    "    print(\"\\n\")\n",
    "    \n",
    "    plot_acc_loss(history);"
   ]
  },
  {
   "cell_type": "code",
   "execution_count": null,
   "metadata": {},
   "outputs": [],
   "source": [
    "analyse_my_mode(model, history)"
   ]
  },
  {
   "cell_type": "markdown",
   "metadata": {},
   "source": [
    "<img src=\"https://cs231n.github.io/assets/nn3/learningrates.jpeg\">\n",
    "(Effect of Learning rate on Loss (Source: CS231n Convolutional Neural Networks for Visual Recognition))"
   ]
  },
  {
   "cell_type": "code",
   "execution_count": null,
   "metadata": {},
   "outputs": [],
   "source": []
  },
  {
   "cell_type": "code",
   "execution_count": null,
   "metadata": {},
   "outputs": [],
   "source": [
    "def predict_result(diceOne, diceTwo, diceThree, diceFour, diceFive, printResult=False):\n",
    "    _ = model.predict([[diceOne, diceTwo, diceThree, diceFour, diceFive]], verbose=0)\n",
    "    \n",
    "    if printResult:\n",
    "        return _\n",
    "    \n",
    "    result = y_labels[np.argmax(_, axis=1)[0]]\n",
    "\n",
    "    print(result)"
   ]
  },
  {
   "cell_type": "code",
   "execution_count": null,
   "metadata": {},
   "outputs": [],
   "source": [
    "predict_result(2,2,2,3,3)"
   ]
  },
  {
   "cell_type": "code",
   "execution_count": null,
   "metadata": {},
   "outputs": [],
   "source": [
    "def plot_value_array(i, predictions_array, true_label):\n",
    "  true_label = true_label[i]\n",
    "  plt.grid(False)\n",
    "  plt.xticks(range(7), fontsize=10)\n",
    "  plt.xticks(rotation=90)\n",
    "  plt.yticks([])\n",
    "  thisplot = plt.bar(y_labels, predictions_array, color=\"#777777\")\n",
    "  plt.ylim([0, 1])\n",
    "  predicted_label = np.argmax(predictions_array)\n",
    "\n",
    "  thisplot[predicted_label].set_color('red')\n",
    "  thisplot[true_label].set_color('blue')"
   ]
  },
  {
   "cell_type": "code",
   "execution_count": null,
   "metadata": {},
   "outputs": [],
   "source": [
    "i = 0\n",
    "prediction = model.predict([[1, 3, 2, 4, 3]], verbose=0)\n",
    "plot_value_array(i, prediction[i], [1]) #small-straight"
   ]
  },
  {
   "cell_type": "code",
   "execution_count": null,
   "metadata": {},
   "outputs": [],
   "source": [
    "#Basic from: https://www.tensorflow.org/tutorials/keras/classification\n",
    "def plot_bars(num_rows=5, num_cols=3):\n",
    "    predictions = model.predict(X_test)\n",
    "    num_images = num_rows*num_cols\n",
    "    plt.figure(figsize=(2*2*num_cols, 3*num_rows))\n",
    "    for i in range(num_images):\n",
    "      plt.subplot(num_rows, num_cols, i+1)\n",
    "      plot_value_array(i, predictions[i], y_test.reset_index(drop=True))\n",
    "      if type(X_bal) is not np.ndarray:\n",
    "          dices = np.array(X_test.reset_index(drop=True))[i]\n",
    "      else:\n",
    "          dices = np.array(X_test)[i].astype(int)\n",
    "      title = str(dices[0]) + \",\" + str(dices[1]) + \",\" + str(dices[2]) + \",\" + str(dices[3]) + \",\" + str(dices[4])\n",
    "      plt.title(title)\n",
    "      plt.subplots_adjust(hspace=1.2)\n",
    "    plt.show()"
   ]
  },
  {
   "cell_type": "code",
   "execution_count": null,
   "metadata": {},
   "outputs": [],
   "source": [
    "plot_bars(3,3)"
   ]
  },
  {
   "cell_type": "code",
   "execution_count": null,
   "metadata": {},
   "outputs": [],
   "source": []
  }
 ],
 "metadata": {
  "kernelspec": {
   "display_name": "Python 3 (ipykernel)",
   "language": "python",
   "name": "python3"
  },
  "language_info": {
   "codemirror_mode": {
    "name": "ipython",
    "version": 3
   },
   "file_extension": ".py",
   "mimetype": "text/x-python",
   "name": "python",
   "nbconvert_exporter": "python",
   "pygments_lexer": "ipython3",
   "version": "3.9.12"
  },
  "vscode": {
   "interpreter": {
    "hash": "fca98ced75e3b70b02ac3b0fddc14254b9e3b048d240659196fc27e019c1f4a1"
   }
  }
 },
 "nbformat": 4,
 "nbformat_minor": 2
}
