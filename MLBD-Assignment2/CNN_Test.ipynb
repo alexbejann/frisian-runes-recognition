{
 "cells": [
  {
   "cell_type": "code",
   "execution_count": 1,
   "metadata": {},
   "outputs": [],
   "source": [
    "import os, re, math, json, shutil, pprint\n",
    "import PIL.Image, PIL.ImageFont, PIL.ImageDraw\n",
    "import IPython.display as display\n",
    "import numpy as np\n",
    "import tensorflow as tf\n",
    "from tensorflow import keras\n",
    "import matplotlib\n",
    "import matplotlib.pyplot as plt\n",
    "from skimage import io\n",
    "import pandas as pd\n",
    "from os import listdir\n",
    "from os.path import isfile, join"
   ]
  },
  {
   "cell_type": "code",
   "execution_count": 1,
   "metadata": {},
   "outputs": [
    {
     "ename": "NameError",
     "evalue": "name 'np' is not defined",
     "output_type": "error",
     "traceback": [
      "\u001b[1;31m---------------------------------------------------------------------------\u001b[0m",
      "\u001b[1;31mNameError\u001b[0m                                 Traceback (most recent call last)",
      "Cell \u001b[1;32mIn[1], line 2\u001b[0m\n\u001b[0;32m      1\u001b[0m \u001b[39m# Create dataset\u001b[39;00m\n\u001b[1;32m----> 2\u001b[0m X \u001b[39m=\u001b[39m np\u001b[39m.\u001b[39marray([\u001b[39m20\u001b[39m, \u001b[39m30\u001b[39m, \u001b[39m40\u001b[39m, \u001b[39m50\u001b[39m, \u001b[39m60\u001b[39m])\u001b[39m.\u001b[39mreshape(\u001b[39m5\u001b[39m,\u001b[39m1\u001b[39m)\n\u001b[0;32m      3\u001b[0m Y \u001b[39m=\u001b[39m np\u001b[39m.\u001b[39marray([\u001b[39m3.0\u001b[39m, \u001b[39m4.5\u001b[39m, \u001b[39m5.3\u001b[39m, \u001b[39m6.0\u001b[39m, \u001b[39m6.5\u001b[39m])\n\u001b[0;32m      4\u001b[0m \u001b[39m# Create preprocessor (normalizer = standardizer)\u001b[39;00m\n\u001b[0;32m      5\u001b[0m \u001b[39m# Setup the parameters for the preprocessor\u001b[39;00m\n",
      "\u001b[1;31mNameError\u001b[0m: name 'np' is not defined"
     ]
    }
   ],
   "source": [
    "# Create dataset\n",
    "X = np.array([20, 30, 40, 50, 60]).reshape(5,1)\n",
    "Y = np.array([3.0, 4.5, 5.3, 6.0, 6.5])\n",
    "# Create preprocessor (normalizer = standardizer)\n",
    "# Setup the parameters for the preprocessor\n",
    "normalizer = keras.layers.Normalization()\n",
    "# normalizer.adapt(X)"
   ]
  },
  {
   "cell_type": "code",
   "execution_count": null,
   "metadata": {},
   "outputs": [],
   "source": [
    "model = tf.keras.Sequential()\n",
    "model.add(tf.keras.Input(shape=(1,)))\n",
    "# Add the preprocessor to the model (see previous slide)\n",
    "model.add(normalizer)\n",
    "# Add one single layer (with size 1)\n",
    "model.add(keras.layers.Dense(1, use_bias=True))\n",
    "# Set training objective and optimizer and compile model\n",
    "model.compile(optimizer=tf.optimizers.Adam(learning_rate=0.1),loss='mean_squared_error')\n"
   ]
  },
  {
   "cell_type": "code",
   "execution_count": null,
   "metadata": {},
   "outputs": [],
   "source": [
    "# Train the model\n",
    "history = model.fit(X, Y, epochs=150)"
   ]
  },
  {
   "cell_type": "code",
   "execution_count": null,
   "metadata": {},
   "outputs": [],
   "source": [
    "# Create a directory for each training iteration\n",
    "logdir = \"logs/\" + datetime.now().strftime(\"%Y%m%d-%H%M%S\")\n",
    "callbacks = [keras.callbacks.TensorBoard(log_dir=logdir)]\n",
    "# Train the model\n",
    "history = model.fit(X, Y,\n",
    "epochs=150,\n",
    "callbacks=callbacks)\n"
   ]
  }
 ],
 "metadata": {
  "kernelspec": {
   "display_name": "project-bdt",
   "language": "python",
   "name": "python3"
  },
  "language_info": {
   "codemirror_mode": {
    "name": "ipython",
    "version": 3
   },
   "file_extension": ".py",
   "mimetype": "text/x-python",
   "name": "python",
   "nbconvert_exporter": "python",
   "pygments_lexer": "ipython3",
   "version": "3.9.15"
  },
  "orig_nbformat": 4,
  "vscode": {
   "interpreter": {
    "hash": "cda239b1dd777d01df567143bbbda5f1e26f67cd0d962f9425eb41a04df5b565"
   }
  }
 },
 "nbformat": 4,
 "nbformat_minor": 2
}
